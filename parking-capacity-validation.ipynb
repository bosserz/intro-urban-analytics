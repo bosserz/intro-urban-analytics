{
 "cells": [
  {
   "cell_type": "code",
   "execution_count": 1,
   "id": "ad2cd2ba-8fee-4b87-8cd6-5a8fbe7e97d4",
   "metadata": {},
   "outputs": [],
   "source": [
    "import pandas as pd\n",
    "import geopandas as gpd\n",
    "import os"
   ]
  },
  {
   "cell_type": "code",
   "execution_count": 2,
   "id": "59d6beed-b1ea-4a5d-b88c-f1d1c33e816e",
   "metadata": {},
   "outputs": [
    {
     "data": {
      "text/html": [
       "<div>\n",
       "<style scoped>\n",
       "    .dataframe tbody tr th:only-of-type {\n",
       "        vertical-align: middle;\n",
       "    }\n",
       "\n",
       "    .dataframe tbody tr th {\n",
       "        vertical-align: top;\n",
       "    }\n",
       "\n",
       "    .dataframe thead th {\n",
       "        text-align: right;\n",
       "    }\n",
       "</style>\n",
       "<table border=\"1\" class=\"dataframe\">\n",
       "  <thead>\n",
       "    <tr style=\"text-align: right;\">\n",
       "      <th></th>\n",
       "      <th>osm_id</th>\n",
       "      <th>name</th>\n",
       "      <th>access</th>\n",
       "      <th>amenity</th>\n",
       "      <th>building</th>\n",
       "      <th>building:levels</th>\n",
       "      <th>capacity</th>\n",
       "      <th>fee</th>\n",
       "      <th>parking</th>\n",
       "      <th>geometry</th>\n",
       "    </tr>\n",
       "  </thead>\n",
       "  <tbody>\n",
       "    <tr>\n",
       "      <th>0</th>\n",
       "      <td>25509346</td>\n",
       "      <td>Starvine Parking Deck</td>\n",
       "      <td>None</td>\n",
       "      <td>parking</td>\n",
       "      <td>parking</td>\n",
       "      <td>None</td>\n",
       "      <td>None</td>\n",
       "      <td>None</td>\n",
       "      <td>multi-storey</td>\n",
       "      <td>POLYGON ((-84.30911 33.79582, -84.309 33.79561...</td>\n",
       "    </tr>\n",
       "    <tr>\n",
       "      <th>1</th>\n",
       "      <td>26800176</td>\n",
       "      <td>None</td>\n",
       "      <td>yes</td>\n",
       "      <td>parking</td>\n",
       "      <td>yes</td>\n",
       "      <td>None</td>\n",
       "      <td>None</td>\n",
       "      <td>yes</td>\n",
       "      <td>multi-storey</td>\n",
       "      <td>POLYGON ((-84.38865 33.77504, -84.38816 33.775...</td>\n",
       "    </tr>\n",
       "    <tr>\n",
       "      <th>2</th>\n",
       "      <td>28507336</td>\n",
       "      <td>Library Parking</td>\n",
       "      <td>yes</td>\n",
       "      <td>parking</td>\n",
       "      <td>None</td>\n",
       "      <td>None</td>\n",
       "      <td>None</td>\n",
       "      <td>no</td>\n",
       "      <td>multi-storey</td>\n",
       "      <td>POLYGON ((-84.29414 33.77372, -84.29414 33.773...</td>\n",
       "    </tr>\n",
       "    <tr>\n",
       "      <th>3</th>\n",
       "      <td>28507523</td>\n",
       "      <td>East Lake Park &amp; Ride</td>\n",
       "      <td>customers</td>\n",
       "      <td>parking</td>\n",
       "      <td>None</td>\n",
       "      <td>None</td>\n",
       "      <td>611</td>\n",
       "      <td>no</td>\n",
       "      <td>surface</td>\n",
       "      <td>POLYGON ((-84.3131 33.7641, -84.3131 33.76401,...</td>\n",
       "    </tr>\n",
       "    <tr>\n",
       "      <th>4</th>\n",
       "      <td>28507673</td>\n",
       "      <td>East Lake Park &amp; Ride</td>\n",
       "      <td>yes</td>\n",
       "      <td>parking</td>\n",
       "      <td>None</td>\n",
       "      <td>None</td>\n",
       "      <td>None</td>\n",
       "      <td>no</td>\n",
       "      <td>surface</td>\n",
       "      <td>POLYGON ((-84.31345 33.76553, -84.31443 33.765...</td>\n",
       "    </tr>\n",
       "  </tbody>\n",
       "</table>\n",
       "</div>"
      ],
      "text/plain": [
       "     osm_id                   name     access  amenity building  \\\n",
       "0  25509346  Starvine Parking Deck       None  parking  parking   \n",
       "1  26800176                   None        yes  parking      yes   \n",
       "2  28507336        Library Parking        yes  parking     None   \n",
       "3  28507523  East Lake Park & Ride  customers  parking     None   \n",
       "4  28507673  East Lake Park & Ride        yes  parking     None   \n",
       "\n",
       "  building:levels capacity   fee       parking  \\\n",
       "0            None     None  None  multi-storey   \n",
       "1            None     None   yes  multi-storey   \n",
       "2            None     None    no  multi-storey   \n",
       "3            None      611    no       surface   \n",
       "4            None     None    no       surface   \n",
       "\n",
       "                                            geometry  \n",
       "0  POLYGON ((-84.30911 33.79582, -84.309 33.79561...  \n",
       "1  POLYGON ((-84.38865 33.77504, -84.38816 33.775...  \n",
       "2  POLYGON ((-84.29414 33.77372, -84.29414 33.773...  \n",
       "3  POLYGON ((-84.3131 33.7641, -84.3131 33.76401,...  \n",
       "4  POLYGON ((-84.31345 33.76553, -84.31443 33.765...  "
      ]
     },
     "execution_count": 2,
     "metadata": {},
     "output_type": "execute_result"
    }
   ],
   "source": [
    "gdf_osm_parking = gpd.read_file(\"osm_parking.geojson\")\n",
    "\n",
    "gdf_osm_parking.head()"
   ]
  },
  {
   "cell_type": "code",
   "execution_count": 3,
   "id": "e0db106f-8f5d-4b7c-8ba0-e0db9afdf875",
   "metadata": {},
   "outputs": [
    {
     "data": {
      "text/plain": [
       "parking\n",
       "carports          15\n",
       "garage             4\n",
       "lane              35\n",
       "multi-storey     486\n",
       "street_side       53\n",
       "surface         1517\n",
       "underground        5\n",
       "valet              1\n",
       "yes                1\n",
       "Name: osm_id, dtype: int64"
      ]
     },
     "execution_count": 3,
     "metadata": {},
     "output_type": "execute_result"
    }
   ],
   "source": [
    "gdf_osm_parking.groupby(\"parking\")[\"osm_id\"].nunique()"
   ]
  },
  {
   "cell_type": "code",
   "execution_count": 7,
   "id": "a92f2448-6ea1-420d-8841-7f928af9f84a",
   "metadata": {},
   "outputs": [
    {
     "data": {
      "text/html": [
       "<div>\n",
       "<style scoped>\n",
       "    .dataframe tbody tr th:only-of-type {\n",
       "        vertical-align: middle;\n",
       "    }\n",
       "\n",
       "    .dataframe tbody tr th {\n",
       "        vertical-align: top;\n",
       "    }\n",
       "\n",
       "    .dataframe thead th {\n",
       "        text-align: right;\n",
       "    }\n",
       "</style>\n",
       "<table border=\"1\" class=\"dataframe\">\n",
       "  <thead>\n",
       "    <tr style=\"text-align: right;\">\n",
       "      <th></th>\n",
       "      <th>osm_id</th>\n",
       "      <th>name</th>\n",
       "      <th>access</th>\n",
       "      <th>amenity</th>\n",
       "      <th>building</th>\n",
       "      <th>building:levels</th>\n",
       "      <th>capacity</th>\n",
       "      <th>fee</th>\n",
       "      <th>parking</th>\n",
       "      <th>geometry</th>\n",
       "    </tr>\n",
       "  </thead>\n",
       "  <tbody>\n",
       "    <tr>\n",
       "      <th>0</th>\n",
       "      <td>25509346</td>\n",
       "      <td>Starvine Parking Deck</td>\n",
       "      <td>None</td>\n",
       "      <td>parking</td>\n",
       "      <td>parking</td>\n",
       "      <td>None</td>\n",
       "      <td>None</td>\n",
       "      <td>None</td>\n",
       "      <td>multi-storey</td>\n",
       "      <td>POLYGON ((-150952.9 1387454.275, -150922.886 1...</td>\n",
       "    </tr>\n",
       "    <tr>\n",
       "      <th>1</th>\n",
       "      <td>26800176</td>\n",
       "      <td>None</td>\n",
       "      <td>yes</td>\n",
       "      <td>parking</td>\n",
       "      <td>yes</td>\n",
       "      <td>None</td>\n",
       "      <td>None</td>\n",
       "      <td>yes</td>\n",
       "      <td>multi-storey</td>\n",
       "      <td>POLYGON ((-175288.587 1380403.447, -175137.312...</td>\n",
       "    </tr>\n",
       "    <tr>\n",
       "      <th>2</th>\n",
       "      <td>28507336</td>\n",
       "      <td>Library Parking</td>\n",
       "      <td>yes</td>\n",
       "      <td>parking</td>\n",
       "      <td>None</td>\n",
       "      <td>None</td>\n",
       "      <td>None</td>\n",
       "      <td>no</td>\n",
       "      <td>multi-storey</td>\n",
       "      <td>POLYGON ((-146572.626 1379317.914, -146572.926...</td>\n",
       "    </tr>\n",
       "    <tr>\n",
       "      <th>3</th>\n",
       "      <td>28507523</td>\n",
       "      <td>East Lake Park &amp; Ride</td>\n",
       "      <td>customers</td>\n",
       "      <td>parking</td>\n",
       "      <td>None</td>\n",
       "      <td>None</td>\n",
       "      <td>611</td>\n",
       "      <td>no</td>\n",
       "      <td>surface</td>\n",
       "      <td>POLYGON ((-152408.443 1375935.334, -152408.412...</td>\n",
       "    </tr>\n",
       "    <tr>\n",
       "      <th>4</th>\n",
       "      <td>28507673</td>\n",
       "      <td>East Lake Park &amp; Ride</td>\n",
       "      <td>yes</td>\n",
       "      <td>parking</td>\n",
       "      <td>None</td>\n",
       "      <td>None</td>\n",
       "      <td>None</td>\n",
       "      <td>no</td>\n",
       "      <td>surface</td>\n",
       "      <td>POLYGON ((-152502.001 1376455.792, -152802.339...</td>\n",
       "    </tr>\n",
       "  </tbody>\n",
       "</table>\n",
       "</div>"
      ],
      "text/plain": [
       "     osm_id                   name     access  amenity building  \\\n",
       "0  25509346  Starvine Parking Deck       None  parking  parking   \n",
       "1  26800176                   None        yes  parking      yes   \n",
       "2  28507336        Library Parking        yes  parking     None   \n",
       "3  28507523  East Lake Park & Ride  customers  parking     None   \n",
       "4  28507673  East Lake Park & Ride        yes  parking     None   \n",
       "\n",
       "  building:levels capacity   fee       parking  \\\n",
       "0            None     None  None  multi-storey   \n",
       "1            None     None   yes  multi-storey   \n",
       "2            None     None    no  multi-storey   \n",
       "3            None      611    no       surface   \n",
       "4            None     None    no       surface   \n",
       "\n",
       "                                            geometry  \n",
       "0  POLYGON ((-150952.9 1387454.275, -150922.886 1...  \n",
       "1  POLYGON ((-175288.587 1380403.447, -175137.312...  \n",
       "2  POLYGON ((-146572.626 1379317.914, -146572.926...  \n",
       "3  POLYGON ((-152408.443 1375935.334, -152408.412...  \n",
       "4  POLYGON ((-152502.001 1376455.792, -152802.339...  "
      ]
     },
     "execution_count": 7,
     "metadata": {},
     "output_type": "execute_result"
    }
   ],
   "source": [
    "# Capacity per geometry area\n",
    "\n",
    "## project to \n",
    "\n",
    "gdf_osm_parking_projected = gdf_osm_parking.to_crs(\"EPSG:26766\")\n",
    "\n",
    "gdf_osm_parking_projected.head()"
   ]
  },
  {
   "cell_type": "code",
   "execution_count": 8,
   "id": "da05c78b-b3b1-42b6-bca7-775905428616",
   "metadata": {},
   "outputs": [
    {
     "data": {
      "text/plain": [
       "<Projected CRS: EPSG:26766>\n",
       "Name: NAD27 / Georgia East\n",
       "Axis Info [cartesian]:\n",
       "- X[east]: Easting (US survey foot)\n",
       "- Y[north]: Northing (US survey foot)\n",
       "Area of Use:\n",
       "- name: United States (USA) - Georgia - counties of Appling; Atkinson; Bacon; Baldwin; Brantley; Bryan; Bulloch; Burke; Camden; Candler; Charlton; Chatham; Clinch; Coffee; Columbia; Dodge; Echols; Effingham; Elbert; Emanuel; Evans; Franklin; Glascock; Glynn; Greene; Hancock; Hart; Jeff Davis; Jefferson; Jenkins; Johnson; Lanier; Laurens; Liberty; Lincoln; Long; Madison; McDuffie; McIntosh; Montgomery; Oglethorpe; Pierce; Richmond; Screven; Stephens; Taliaferro; Tattnall; Telfair; Toombs; Treutlen; Ware; Warren; Washington; Wayne; Wheeler; Wilkes; Wilkinson.\n",
       "- bounds: (-83.47, 30.36, -80.77, 34.68)\n",
       "Coordinate Operation:\n",
       "- name: Georgia CS27 East zone\n",
       "- method: Transverse Mercator\n",
       "Datum: North American Datum 1927\n",
       "- Ellipsoid: Clarke 1866\n",
       "- Prime Meridian: Greenwich"
      ]
     },
     "execution_count": 8,
     "metadata": {},
     "output_type": "execute_result"
    }
   ],
   "source": [
    "gdf_osm_parking_projected.crs"
   ]
  },
  {
   "cell_type": "code",
   "execution_count": 10,
   "id": "0b7be4fd-9556-4f31-bca3-79b83cdf39b4",
   "metadata": {},
   "outputs": [
    {
     "data": {
      "text/plain": [
       "parking\n",
       "lane             10\n",
       "multi-storey     14\n",
       "street_side       1\n",
       "surface         171\n",
       "Name: osm_id, dtype: int64"
      ]
     },
     "execution_count": 10,
     "metadata": {},
     "output_type": "execute_result"
    }
   ],
   "source": [
    "gdf_osm_parking_projected[gdf_osm_parking_projected[\"capacity\"].notnull()].groupby(\"parking\")[\"osm_id\"].nunique()"
   ]
  },
  {
   "cell_type": "code",
   "execution_count": 17,
   "id": "b1a2bd8f-6a17-4dc9-9fd7-91aaab3ee9c7",
   "metadata": {},
   "outputs": [],
   "source": [
    "gdf_osm_parking_projected[\"osm_geom_area\"] = gdf_osm_parking_projected.geometry.area * 0.092903 # convert ot m2\n",
    "\n",
    "gdf_osm_parking_projected[\"capacity\"] = gdf_osm_parking_projected[\"capacity\"].apply(lambda x: x.replace(\"+\", \"\") if type(x) == str else x).astype(float) # convert type\n",
    "\n",
    "gdf_osm_parking_projected[\"area_per_capacity\"] = gdf_osm_parking_projected[\"osm_geom_area\"] / gdf_osm_parking_projected[\"capacity\"]"
   ]
  },
  {
   "cell_type": "code",
   "execution_count": 19,
   "id": "c5abc63d-b02a-49f3-8cea-a0a634835796",
   "metadata": {},
   "outputs": [
    {
     "data": {
      "text/plain": [
       "parking\n",
       "carports              NaN\n",
       "garage                NaN\n",
       "lane            16.309453\n",
       "multi-storey     7.223329\n",
       "street_side     20.001809\n",
       "surface         33.444207\n",
       "underground           NaN\n",
       "valet                 NaN\n",
       "yes                   NaN\n",
       "Name: area_per_capacity, dtype: float64"
      ]
     },
     "execution_count": 19,
     "metadata": {},
     "output_type": "execute_result"
    }
   ],
   "source": [
    "gdf_osm_parking_projected.groupby(\"parking\")[\"area_per_capacity\"].mean()"
   ]
  },
  {
   "cell_type": "code",
   "execution_count": 27,
   "id": "885be23a-2dd3-4d29-8b03-1205c6cd8363",
   "metadata": {},
   "outputs": [
    {
     "data": {
      "text/plain": [
       "<Axes: title={'center': 'area_per_capacity'}, xlabel='parking'>"
      ]
     },
     "execution_count": 27,
     "metadata": {},
     "output_type": "execute_result"
    },
    {
     "data": {
      "image/png": "[encoded data removed]",
      "text/plain": [
       "<Figure size 640x480 with 1 Axes>"
      ]
     },
     "metadata": {},
     "output_type": "display_data"
    }
   ],
   "source": [
    "import matplotlib.pyplot as plt\n",
    "import numpy as np\n",
    "\n",
    "# lane_parking = gdf_osm_parking_projected[gdf_osm_parking_projected[\"parking\"] == \"lane\"][\"area_per_capacity\"]\n",
    "# mstorey_parking = gdf_osm_parking_projected[gdf_osm_parking_projected[\"parking\"] == \"multi-storey\"][\"area_per_capacity\"]\n",
    "# surface_parking = gdf_osm_parking_projected[gdf_osm_parking_projected[\"parking\"] == \"surface\"][\"area_per_capacity\"]\n",
    "\n",
    "# data_box_plot = [lane_parking, mstorey_parking, surface_parking]\n",
    "\n",
    "# fig = plt.figure(figsize =(10, 7))\n",
    "\n",
    "# ax = fig.add_subplot()\n",
    "\n",
    "# bp = ax.boxplot(data_box_plot)\n",
    "\n",
    "# # show plot\n",
    "# plt.show()\n",
    "\n",
    "gdf_osm_parking_projected[gdf_osm_parking_projected[\"capacity\"].notnull()].boxplot(column=\"area_per_capacity\",\n",
    "                                 by=\"parking\")"
   ]
  },
  {
   "cell_type": "code",
   "execution_count": 32,
   "id": "562aa224-d079-4dc7-a385-f764f97e44a8",
   "metadata": {},
   "outputs": [
    {
     "data": {
      "text/plain": [
       "Text(0, 0.5, 'Geometry Area (sqm)')"
      ]
     },
     "execution_count": 32,
     "metadata": {},
     "output_type": "execute_result"
    },
    {
     "data": {
      "image/png": "[encoded data removed]",
      "text/plain": [
       "<Figure size 640x480 with 1 Axes>"
      ]
     },
     "metadata": {},
     "output_type": "display_data"
    }
   ],
   "source": [
    "plt.scatter(x=gdf_osm_parking_projected[gdf_osm_parking_projected[\"parking\"] == \"surface\"][\"capacity\"],\n",
    "           y=gdf_osm_parking_projected[gdf_osm_parking_projected[\"parking\"] == \"surface\"][\"osm_geom_area\"],\n",
    "           alpha=0.5)\n",
    "plt.xlabel(\"Capacity (#)\")\n",
    "plt.ylabel(\"Geometry Area (sqm)\")"
   ]
  },
  {
   "cell_type": "code",
   "execution_count": 33,
   "id": "6bb4a9c3-2981-417d-ac70-4e1e09b3dcc1",
   "metadata": {},
   "outputs": [
    {
     "data": {
      "text/plain": [
       "Text(0, 0.5, 'Geometry Area (sqm)')"
      ]
     },
     "execution_count": 33,
     "metadata": {},
     "output_type": "execute_result"
    },
    {
     "data": {
      "image/png": "[encoded data removed]",
      "text/plain": [
       "<Figure size 640x480 with 1 Axes>"
      ]
     },
     "metadata": {},
     "output_type": "display_data"
    }
   ],
   "source": [
    "plt.scatter(x=gdf_osm_parking_projected[gdf_osm_parking_projected[\"parking\"] == \"multi-storey\"][\"capacity\"],\n",
    "           y=gdf_osm_parking_projected[gdf_osm_parking_projected[\"parking\"] == \"multi-storey\"][\"osm_geom_area\"],\n",
    "           alpha=0.5)\n",
    "\n",
    "plt.xlabel(\"Capacity (#)\")\n",
    "plt.ylabel(\"Geometry Area (sqm)\")"
   ]
  },
  {
   "cell_type": "code",
   "execution_count": 34,
   "id": "38e18c5b-ff69-43ef-a41b-51600085e206",
   "metadata": {},
   "outputs": [],
   "source": [
    "# apply linear regression\n",
    "\n",
    "from sklearn.linear_model import LinearRegression"
   ]
  },
  {
   "cell_type": "code",
   "execution_count": 39,
   "id": "814764c1-252c-4c98-b6fb-e65244b618d9",
   "metadata": {},
   "outputs": [],
   "source": [
    "data_building = gdf_osm_parking_projected[gdf_osm_parking_projected[\"parking\"] == \"multi-storey\"]\n",
    "data_building = data_building[data_building[\"capacity\"].notnull()]\n",
    "\n",
    "data_surface = gdf_osm_parking_projected[gdf_osm_parking_projected[\"parking\"] == \"surface\"]\n",
    "data_surface = data_surface[data_surface[\"capacity\"].notnull()]\n",
    "\n",
    "x_building = data_building[[\"osm_geom_area\"]]\n",
    "y_building = data_building[[\"capacity\"]]\n",
    "\n",
    "x_surface = data_surface[[\"osm_geom_area\"]]\n",
    "y_surface = data_surface[[\"capacity\"]]\n",
    "\n",
    "\n",
    "reg_building = LinearRegression().fit(x_building, y_building)\n",
    "\n",
    "reg_surface = LinearRegression().fit(x_surface, y_surface)"
   ]
  },
  {
   "cell_type": "code",
   "execution_count": 47,
   "id": "cbd5b6e7-8a64-49cc-9e0a-196556dff6d2",
   "metadata": {},
   "outputs": [
    {
     "data": {
      "text/plain": [
       "array([[0.19640404]])"
      ]
     },
     "execution_count": 47,
     "metadata": {},
     "output_type": "execute_result"
    }
   ],
   "source": [
    "reg_building.coef_"
   ]
  },
  {
   "cell_type": "code",
   "execution_count": 48,
   "id": "074d9af5-cb56-478f-a0ae-f06016267290",
   "metadata": {},
   "outputs": [
    {
     "data": {
      "text/plain": [
       "array([[0.04249784]])"
      ]
     },
     "execution_count": 48,
     "metadata": {},
     "output_type": "execute_result"
    }
   ],
   "source": [
    "reg_surface.coef_"
   ]
  },
  {
   "cell_type": "markdown",
   "id": "f1586bfb-4e86-45b8-a5b7-d27acc5960df",
   "metadata": {},
   "source": [
    "# Merge with SafeGraph POI"
   ]
  },
  {
   "cell_type": "code",
   "execution_count": 49,
   "id": "11d63e62-473e-4885-8caa-08357f89776e",
   "metadata": {},
   "outputs": [],
   "source": [
    "df_safegraph_parking = pd.read_csv(\"../data/parking_lot/ATL_SafeGraph_filtered.csv\")"
   ]
  },
  {
   "cell_type": "code",
   "execution_count": 50,
   "id": "41a71bb5-ebfd-4040-b80c-eae81565f504",
   "metadata": {},
   "outputs": [
    {
     "data": {
      "text/plain": [
       "(19350, 6)"
      ]
     },
     "execution_count": 50,
     "metadata": {},
     "output_type": "execute_result"
    }
   ],
   "source": [
    "df_safegraph_parking.shape"
   ]
  },
  {
   "cell_type": "code",
   "execution_count": 51,
   "id": "c762417b-f615-4f8d-98a6-d10107eb2f22",
   "metadata": {},
   "outputs": [
    {
     "data": {
      "text/html": [
       "<div>\n",
       "<style scoped>\n",
       "    .dataframe tbody tr th:only-of-type {\n",
       "        vertical-align: middle;\n",
       "    }\n",
       "\n",
       "    .dataframe tbody tr th {\n",
       "        vertical-align: top;\n",
       "    }\n",
       "\n",
       "    .dataframe thead th {\n",
       "        text-align: right;\n",
       "    }\n",
       "</style>\n",
       "<table border=\"1\" class=\"dataframe\">\n",
       "  <thead>\n",
       "    <tr style=\"text-align: right;\">\n",
       "      <th></th>\n",
       "      <th>PLACEKEY</th>\n",
       "      <th>POLYGON_WKT</th>\n",
       "      <th>WKT_AREA_SQ_METERS</th>\n",
       "      <th>RELATED_POI</th>\n",
       "      <th>LONGITUDE</th>\n",
       "      <th>LATITUDE</th>\n",
       "    </tr>\n",
       "  </thead>\n",
       "  <tbody>\n",
       "    <tr>\n",
       "      <th>0</th>\n",
       "      <td>zzz-222@8g6-x82-h89</td>\n",
       "      <td>list(c(-84.1850990366146, -84.1851906498244, -...</td>\n",
       "      <td>102</td>\n",
       "      <td>NaN</td>\n",
       "      <td>-84.185144</td>\n",
       "      <td>33.824820</td>\n",
       "    </tr>\n",
       "    <tr>\n",
       "      <th>1</th>\n",
       "      <td>zzz-222@8g6-x8j-n89</td>\n",
       "      <td>list(c(-84.2213041494029, -84.2212968257044, -...</td>\n",
       "      <td>6285</td>\n",
       "      <td>NaN</td>\n",
       "      <td>-84.222369</td>\n",
       "      <td>33.743690</td>\n",
       "    </tr>\n",
       "    <tr>\n",
       "      <th>2</th>\n",
       "      <td>zzz-222@8g6-xpk-nwk</td>\n",
       "      <td>list(c(-84.2697920844036, -84.2699818743651, -...</td>\n",
       "      <td>839</td>\n",
       "      <td>NaN</td>\n",
       "      <td>-84.270137</td>\n",
       "      <td>33.615502</td>\n",
       "    </tr>\n",
       "    <tr>\n",
       "      <th>3</th>\n",
       "      <td>zzz-222@8g6-y3w-skf</td>\n",
       "      <td>list(c(-84.2711732932715, -84.2710495938455, -...</td>\n",
       "      <td>9479</td>\n",
       "      <td>NaN</td>\n",
       "      <td>-84.270623</td>\n",
       "      <td>34.087208</td>\n",
       "    </tr>\n",
       "    <tr>\n",
       "      <th>4</th>\n",
       "      <td>zzz-222@8g6-y44-fj9</td>\n",
       "      <td>list(c(-84.2654832952327, -84.2654998621948, -...</td>\n",
       "      <td>430</td>\n",
       "      <td>NaN</td>\n",
       "      <td>-84.265731</td>\n",
       "      <td>34.067523</td>\n",
       "    </tr>\n",
       "  </tbody>\n",
       "</table>\n",
       "</div>"
      ],
      "text/plain": [
       "              PLACEKEY                                        POLYGON_WKT  \\\n",
       "0  zzz-222@8g6-x82-h89  list(c(-84.1850990366146, -84.1851906498244, -...   \n",
       "1  zzz-222@8g6-x8j-n89  list(c(-84.2213041494029, -84.2212968257044, -...   \n",
       "2  zzz-222@8g6-xpk-nwk  list(c(-84.2697920844036, -84.2699818743651, -...   \n",
       "3  zzz-222@8g6-y3w-skf  list(c(-84.2711732932715, -84.2710495938455, -...   \n",
       "4  zzz-222@8g6-y44-fj9  list(c(-84.2654832952327, -84.2654998621948, -...   \n",
       "\n",
       "   WKT_AREA_SQ_METERS  RELATED_POI  LONGITUDE   LATITUDE  \n",
       "0                 102          NaN -84.185144  33.824820  \n",
       "1                6285          NaN -84.222369  33.743690  \n",
       "2                 839          NaN -84.270137  33.615502  \n",
       "3                9479          NaN -84.270623  34.087208  \n",
       "4                 430          NaN -84.265731  34.067523  "
      ]
     },
     "execution_count": 51,
     "metadata": {},
     "output_type": "execute_result"
    }
   ],
   "source": [
    "df_safegraph_parking.head()"
   ]
  },
  {
   "cell_type": "code",
   "execution_count": 52,
   "id": "6f4c2a30-bea1-40f2-baf5-23582c8b1094",
   "metadata": {},
   "outputs": [
    {
     "data": {
      "text/plain": [
       "PLACEKEY               object\n",
       "POLYGON_WKT            object\n",
       "WKT_AREA_SQ_METERS      int64\n",
       "RELATED_POI           float64\n",
       "LONGITUDE             float64\n",
       "LATITUDE              float64\n",
       "dtype: object"
      ]
     },
     "execution_count": 52,
     "metadata": {},
     "output_type": "execute_result"
    }
   ],
   "source": [
    "df_safegraph_parking.dtypes"
   ]
  },
  {
   "cell_type": "code",
   "execution_count": 53,
   "id": "51b1f8c3-1233-4bd1-b2ec-8e05d817c96b",
   "metadata": {},
   "outputs": [
    {
     "data": {
      "text/html": [
       "<div>\n",
       "<style scoped>\n",
       "    .dataframe tbody tr th:only-of-type {\n",
       "        vertical-align: middle;\n",
       "    }\n",
       "\n",
       "    .dataframe tbody tr th {\n",
       "        vertical-align: top;\n",
       "    }\n",
       "\n",
       "    .dataframe thead th {\n",
       "        text-align: right;\n",
       "    }\n",
       "</style>\n",
       "<table border=\"1\" class=\"dataframe\">\n",
       "  <thead>\n",
       "    <tr style=\"text-align: right;\">\n",
       "      <th></th>\n",
       "      <th>PLACEKEY</th>\n",
       "      <th>POLYGON_WKT</th>\n",
       "      <th>WKT_AREA_SQ_METERS</th>\n",
       "      <th>RELATED_POI</th>\n",
       "      <th>LONGITUDE</th>\n",
       "      <th>LATITUDE</th>\n",
       "    </tr>\n",
       "  </thead>\n",
       "  <tbody>\n",
       "    <tr>\n",
       "      <th>0</th>\n",
       "      <td>zzz-222@8g6-x82-h89</td>\n",
       "      <td>-84.1850990366146, -84.1851906498244, -84.1851...</td>\n",
       "      <td>102</td>\n",
       "      <td>NaN</td>\n",
       "      <td>-84.185144</td>\n",
       "      <td>33.824820</td>\n",
       "    </tr>\n",
       "    <tr>\n",
       "      <th>1</th>\n",
       "      <td>zzz-222@8g6-x8j-n89</td>\n",
       "      <td>-84.2213041494029, -84.2212968257044, -84.2211...</td>\n",
       "      <td>6285</td>\n",
       "      <td>NaN</td>\n",
       "      <td>-84.222369</td>\n",
       "      <td>33.743690</td>\n",
       "    </tr>\n",
       "    <tr>\n",
       "      <th>2</th>\n",
       "      <td>zzz-222@8g6-xpk-nwk</td>\n",
       "      <td>-84.2697920844036, -84.2699818743651, -84.2700...</td>\n",
       "      <td>839</td>\n",
       "      <td>NaN</td>\n",
       "      <td>-84.270137</td>\n",
       "      <td>33.615502</td>\n",
       "    </tr>\n",
       "    <tr>\n",
       "      <th>3</th>\n",
       "      <td>zzz-222@8g6-y3w-skf</td>\n",
       "      <td>-84.2711732932715, -84.2710495938455, -84.2710...</td>\n",
       "      <td>9479</td>\n",
       "      <td>NaN</td>\n",
       "      <td>-84.270623</td>\n",
       "      <td>34.087208</td>\n",
       "    </tr>\n",
       "    <tr>\n",
       "      <th>4</th>\n",
       "      <td>zzz-222@8g6-y44-fj9</td>\n",
       "      <td>-84.2654832952327, -84.2654998621948, -84.2656...</td>\n",
       "      <td>430</td>\n",
       "      <td>NaN</td>\n",
       "      <td>-84.265731</td>\n",
       "      <td>34.067523</td>\n",
       "    </tr>\n",
       "  </tbody>\n",
       "</table>\n",
       "</div>"
      ],
      "text/plain": [
       "              PLACEKEY                                        POLYGON_WKT  \\\n",
       "0  zzz-222@8g6-x82-h89  -84.1850990366146, -84.1851906498244, -84.1851...   \n",
       "1  zzz-222@8g6-x8j-n89  -84.2213041494029, -84.2212968257044, -84.2211...   \n",
       "2  zzz-222@8g6-xpk-nwk  -84.2697920844036, -84.2699818743651, -84.2700...   \n",
       "3  zzz-222@8g6-y3w-skf  -84.2711732932715, -84.2710495938455, -84.2710...   \n",
       "4  zzz-222@8g6-y44-fj9  -84.2654832952327, -84.2654998621948, -84.2656...   \n",
       "\n",
       "   WKT_AREA_SQ_METERS  RELATED_POI  LONGITUDE   LATITUDE  \n",
       "0                 102          NaN -84.185144  33.824820  \n",
       "1                6285          NaN -84.222369  33.743690  \n",
       "2                 839          NaN -84.270137  33.615502  \n",
       "3                9479          NaN -84.270623  34.087208  \n",
       "4                 430          NaN -84.265731  34.067523  "
      ]
     },
     "execution_count": 53,
     "metadata": {},
     "output_type": "execute_result"
    }
   ],
   "source": [
    "df_safegraph_parking[\"POLYGON_WKT\"] = df_safegraph_parking[\"POLYGON_WKT\"].apply(lambda x: x.replace(\"list(c\", \"\"))\n",
    "df_safegraph_parking[\"POLYGON_WKT\"] = df_safegraph_parking[\"POLYGON_WKT\"].apply(lambda x: x.replace(\"))\", \")\"))\n",
    "df_safegraph_parking[\"POLYGON_WKT\"] = df_safegraph_parking[\"POLYGON_WKT\"].apply(lambda x: x.replace(\"(\", \"\"))\n",
    "df_safegraph_parking[\"POLYGON_WKT\"] = df_safegraph_parking[\"POLYGON_WKT\"].apply(lambda x: x.replace(\")\", \"\"))\n",
    "df_safegraph_parking[\"POLYGON_WKT\"] = df_safegraph_parking[\"POLYGON_WKT\"].apply(lambda x: x.replace(\"\\n\", \"\"))\n",
    "df_safegraph_parking[\"POLYGON_WKT\"] = df_safegraph_parking[\"POLYGON_WKT\"].apply(lambda x: x.replace(\"c\", \"\"))\n",
    "df_safegraph_parking.head()"
   ]
  },
  {
   "cell_type": "code",
   "execution_count": 54,
   "id": "5c753e00-ee07-4b5a-8187-25241c0a6fb1",
   "metadata": {},
   "outputs": [],
   "source": [
    "def convert_to_polygon(coord_str):\n",
    "    # Remove parentheses and split into individual coordinates\n",
    "    coords = coord_str.split(\", \")\n",
    "    # Convert to floats\n",
    "    coords = [float(coord) for coord in coords]\n",
    "    \n",
    "    # Separate the list into longitude and latitude\n",
    "    lon = coords[:len(coords)//2]\n",
    "    lat = coords[len(coords)//2:]\n",
    "    \n",
    "    # Pair lat and lon into (x, y) tuples\n",
    "    polygon_coords = list(zip(lon, lat))\n",
    "    \n",
    "    # Create and return a Polygon\n",
    "    return Polygon(polygon_coords)"
   ]
  },
  {
   "cell_type": "code",
   "execution_count": 55,
   "id": "8515ee4d-4005-476f-9b8a-4ba4c0179020",
   "metadata": {},
   "outputs": [],
   "source": [
    "from shapely.geometry import Polygon"
   ]
  },
  {
   "cell_type": "code",
   "execution_count": 56,
   "id": "8f1aeeef-3814-4eb0-b053-eb74431580e5",
   "metadata": {},
   "outputs": [],
   "source": [
    "df_safegraph_parking['geometry'] = df_safegraph_parking['POLYGON_WKT'].apply(convert_to_polygon)"
   ]
  },
  {
   "cell_type": "code",
   "execution_count": 57,
   "id": "328526c0-3cdf-43ad-a4e4-989149d38d29",
   "metadata": {},
   "outputs": [],
   "source": [
    "gdf_safegraph_parking = gpd.GeoDataFrame(df_safegraph_parking, geometry='geometry', crs=\"EPSG:4326\")"
   ]
  },
  {
   "cell_type": "code",
   "execution_count": 58,
   "id": "6ebe31d4-886f-4e97-88e8-b91d7de52256",
   "metadata": {},
   "outputs": [
    {
     "data": {
      "text/plain": [
       "(19350, 7)"
      ]
     },
     "execution_count": 58,
     "metadata": {},
     "output_type": "execute_result"
    }
   ],
   "source": [
    "gdf_safegraph_parking.shape"
   ]
  },
  {
   "cell_type": "code",
   "execution_count": 59,
   "id": "ec9b885c-973d-43ae-8336-e66d03b5b16b",
   "metadata": {},
   "outputs": [],
   "source": [
    "gdf_safegraph_parking.to_file(\"safegraph_parking_1.geojson\", driver=\"GeoJSON\")"
   ]
  },
  {
   "cell_type": "code",
   "execution_count": 38,
   "id": "121d5c79-5fa7-49b7-aa6c-4281c2e4edf7",
   "metadata": {},
   "outputs": [],
   "source": [
    "from glob import glob"
   ]
  },
  {
   "cell_type": "code",
   "execution_count": 41,
   "id": "bf744263-d560-4b96-8f63-4ccc273d7580",
   "metadata": {},
   "outputs": [],
   "source": [
    "all_parking_safegraph_fl = glob(\"../data/parking_lot/raw/*.csv\")"
   ]
  },
  {
   "cell_type": "code",
   "execution_count": 42,
   "id": "116e7409-6225-4480-ac8f-a1e831837a47",
   "metadata": {},
   "outputs": [
    {
     "data": {
      "text/plain": [
       "64"
      ]
     },
     "execution_count": 42,
     "metadata": {},
     "output_type": "execute_result"
    }
   ],
   "source": [
    "len(all_parking_safegraph_fl)"
   ]
  },
  {
   "cell_type": "code",
   "execution_count": 43,
   "id": "41dd974e-7a39-4635-9455-aae640a39ff5",
   "metadata": {},
   "outputs": [],
   "source": [
    "df_sg = pd.DataFrame()\n",
    "\n",
    "for f in all_parking_safegraph_fl:\n",
    "\n",
    "    df_sg = pd.concat([pd.read_csv(f), df_sg])"
   ]
  },
  {
   "cell_type": "code",
   "execution_count": 44,
   "id": "05d5d2fa-aaf0-4dea-9566-28bc98dd44d9",
   "metadata": {},
   "outputs": [
    {
     "data": {
      "text/plain": [
       "(5984517, 6)"
      ]
     },
     "execution_count": 44,
     "metadata": {},
     "output_type": "execute_result"
    }
   ],
   "source": [
    "df_sg.shape"
   ]
  },
  {
   "cell_type": "code",
   "execution_count": 45,
   "id": "801a218d-f4d7-4150-8bbc-25b4b362b188",
   "metadata": {},
   "outputs": [
    {
     "data": {
      "text/plain": [
       "Index(['PLACEKEY', 'LATITUDE', 'LONGITUDE', 'POLYGON_WKT',\n",
       "       'WKT_AREA_SQ_METERS', 'RELATED_POI'],\n",
       "      dtype='object')"
      ]
     },
     "execution_count": 45,
     "metadata": {},
     "output_type": "execute_result"
    }
   ],
   "source": [
    "df_sg.columns"
   ]
  },
  {
   "cell_type": "code",
   "execution_count": 46,
   "id": "7e4cf12b-c3e8-4c69-86a5-809497ee9e7d",
   "metadata": {},
   "outputs": [
    {
     "data": {
      "text/html": [
       "<div>\n",
       "<style scoped>\n",
       "    .dataframe tbody tr th:only-of-type {\n",
       "        vertical-align: middle;\n",
       "    }\n",
       "\n",
       "    .dataframe tbody tr th {\n",
       "        vertical-align: top;\n",
       "    }\n",
       "\n",
       "    .dataframe thead th {\n",
       "        text-align: right;\n",
       "    }\n",
       "</style>\n",
       "<table border=\"1\" class=\"dataframe\">\n",
       "  <thead>\n",
       "    <tr style=\"text-align: right;\">\n",
       "      <th></th>\n",
       "      <th>PLACEKEY</th>\n",
       "      <th>LATITUDE</th>\n",
       "      <th>LONGITUDE</th>\n",
       "      <th>POLYGON_WKT</th>\n",
       "      <th>WKT_AREA_SQ_METERS</th>\n",
       "      <th>RELATED_POI</th>\n",
       "    </tr>\n",
       "  </thead>\n",
       "  <tbody>\n",
       "    <tr>\n",
       "      <th>0</th>\n",
       "      <td>zzz-222@63j-92s-xdv</td>\n",
       "      <td>39.328655</td>\n",
       "      <td>-84.277451</td>\n",
       "      <td>POLYGON ((-84.27716632403255 39.32901243407676...</td>\n",
       "      <td>3373</td>\n",
       "      <td>[\"222-222@63j-92s-hdv\",\"228-222@63j-92s-xdv\"]</td>\n",
       "    </tr>\n",
       "    <tr>\n",
       "      <th>1</th>\n",
       "      <td>zzz-222@63j-92z-zvf</td>\n",
       "      <td>39.381537</td>\n",
       "      <td>-84.385519</td>\n",
       "      <td>POLYGON ((-84.38449157622921 39.38249301809495...</td>\n",
       "      <td>14182</td>\n",
       "      <td>[\"222-222@63j-92z-zvf\",\"222-223@63j-92z-zvf\",\"...</td>\n",
       "    </tr>\n",
       "    <tr>\n",
       "      <th>2</th>\n",
       "      <td>zzz-222@63j-937-hbk</td>\n",
       "      <td>39.389120</td>\n",
       "      <td>-84.370805</td>\n",
       "      <td>POLYGON ((-84.37072293554394 39.38917386725801...</td>\n",
       "      <td>179</td>\n",
       "      <td>[]</td>\n",
       "    </tr>\n",
       "  </tbody>\n",
       "</table>\n",
       "</div>"
      ],
      "text/plain": [
       "              PLACEKEY   LATITUDE  LONGITUDE  \\\n",
       "0  zzz-222@63j-92s-xdv  39.328655 -84.277451   \n",
       "1  zzz-222@63j-92z-zvf  39.381537 -84.385519   \n",
       "2  zzz-222@63j-937-hbk  39.389120 -84.370805   \n",
       "\n",
       "                                         POLYGON_WKT  WKT_AREA_SQ_METERS  \\\n",
       "0  POLYGON ((-84.27716632403255 39.32901243407676...                3373   \n",
       "1  POLYGON ((-84.38449157622921 39.38249301809495...               14182   \n",
       "2  POLYGON ((-84.37072293554394 39.38917386725801...                 179   \n",
       "\n",
       "                                         RELATED_POI  \n",
       "0      [\"222-222@63j-92s-hdv\",\"228-222@63j-92s-xdv\"]  \n",
       "1  [\"222-222@63j-92z-zvf\",\"222-223@63j-92z-zvf\",\"...  \n",
       "2                                                 []  "
      ]
     },
     "execution_count": 46,
     "metadata": {},
     "output_type": "execute_result"
    }
   ],
   "source": [
    "df_sg.head(3)"
   ]
  },
  {
   "cell_type": "code",
   "execution_count": 49,
   "id": "cd606f84-aab1-4663-a237-3723b3ff67ea",
   "metadata": {},
   "outputs": [],
   "source": [
    "from shapely import wkt\n",
    "\n",
    "df_sg['geometry'] = df_sg['POLYGON_WKT'].apply(wkt.loads)"
   ]
  },
  {
   "cell_type": "code",
   "execution_count": 50,
   "id": "c1481dd0-b516-4c69-9343-581072bbbfa0",
   "metadata": {},
   "outputs": [],
   "source": [
    "gdf_sg = gpd.GeoDataFrame(df_sg, geometry=\"geometry\", crs=4326)"
   ]
  },
  {
   "cell_type": "code",
   "execution_count": 51,
   "id": "8287dbc7-222e-4e9b-bbce-9b779dde636e",
   "metadata": {},
   "outputs": [],
   "source": [
    "gdf_sg_filtered = gdf_sg[gdf_sg[\"PLACEKEY\"].isin(df_safegraph_parking.PLACEKEY.unique().tolist())]"
   ]
  },
  {
   "cell_type": "code",
   "execution_count": 52,
   "id": "1e0f9f49-6e8b-4c59-bf63-e1fa9ffd3e30",
   "metadata": {},
   "outputs": [
    {
     "data": {
      "text/plain": [
       "(19350, 7)"
      ]
     },
     "execution_count": 52,
     "metadata": {},
     "output_type": "execute_result"
    }
   ],
   "source": [
    "gdf_sg_filtered.shape"
   ]
  },
  {
   "cell_type": "code",
   "execution_count": 53,
   "id": "1a9a7abc-aeda-4a11-9235-21d6e178d938",
   "metadata": {},
   "outputs": [
    {
     "data": {
      "text/html": [
       "<div>\n",
       "<style scoped>\n",
       "    .dataframe tbody tr th:only-of-type {\n",
       "        vertical-align: middle;\n",
       "    }\n",
       "\n",
       "    .dataframe tbody tr th {\n",
       "        vertical-align: top;\n",
       "    }\n",
       "\n",
       "    .dataframe thead th {\n",
       "        text-align: right;\n",
       "    }\n",
       "</style>\n",
       "<table border=\"1\" class=\"dataframe\">\n",
       "  <thead>\n",
       "    <tr style=\"text-align: right;\">\n",
       "      <th></th>\n",
       "      <th>PLACEKEY</th>\n",
       "      <th>LATITUDE</th>\n",
       "      <th>LONGITUDE</th>\n",
       "      <th>POLYGON_WKT</th>\n",
       "      <th>WKT_AREA_SQ_METERS</th>\n",
       "      <th>RELATED_POI</th>\n",
       "      <th>geometry</th>\n",
       "    </tr>\n",
       "  </thead>\n",
       "  <tbody>\n",
       "    <tr>\n",
       "      <th>2776</th>\n",
       "      <td>zzz-222@8g6-x3v-ks5</td>\n",
       "      <td>33.724823</td>\n",
       "      <td>-84.107706</td>\n",
       "      <td>POLYGON ((-84.10689892347354 33.72651614379912...</td>\n",
       "      <td>28687</td>\n",
       "      <td>[\"zzy-222@8g6-x3v-ks5\"]</td>\n",
       "      <td>POLYGON ((-84.10690 33.72652, -84.10689 33.726...</td>\n",
       "    </tr>\n",
       "    <tr>\n",
       "      <th>2777</th>\n",
       "      <td>zzz-222@8g6-x3z-qs5</td>\n",
       "      <td>33.693855</td>\n",
       "      <td>-84.075111</td>\n",
       "      <td>POLYGON ((-84.07575503370121 33.69415695003182...</td>\n",
       "      <td>4352</td>\n",
       "      <td>[\"224-222@8g6-x4t-gc5\",\"22b-222@8g6-x4t-gc5\"]</td>\n",
       "      <td>POLYGON ((-84.07576 33.69416, -84.07575 33.694...</td>\n",
       "    </tr>\n",
       "    <tr>\n",
       "      <th>2780</th>\n",
       "      <td>zzz-222@8g6-x75-pjv</td>\n",
       "      <td>33.846035</td>\n",
       "      <td>-84.257664</td>\n",
       "      <td>POLYGON ((-84.25758064959409 33.84631212654212...</td>\n",
       "      <td>1236</td>\n",
       "      <td>[\"222-222@8g6-yn3-k9f\",\"zzw-222@8g6-x75-pjv\",\"...</td>\n",
       "      <td>POLYGON ((-84.25758 33.84631, -84.25758 33.846...</td>\n",
       "    </tr>\n",
       "  </tbody>\n",
       "</table>\n",
       "</div>"
      ],
      "text/plain": [
       "                 PLACEKEY   LATITUDE  LONGITUDE  \\\n",
       "2776  zzz-222@8g6-x3v-ks5  33.724823 -84.107706   \n",
       "2777  zzz-222@8g6-x3z-qs5  33.693855 -84.075111   \n",
       "2780  zzz-222@8g6-x75-pjv  33.846035 -84.257664   \n",
       "\n",
       "                                            POLYGON_WKT  WKT_AREA_SQ_METERS  \\\n",
       "2776  POLYGON ((-84.10689892347354 33.72651614379912...               28687   \n",
       "2777  POLYGON ((-84.07575503370121 33.69415695003182...                4352   \n",
       "2780  POLYGON ((-84.25758064959409 33.84631212654212...                1236   \n",
       "\n",
       "                                            RELATED_POI  \\\n",
       "2776                            [\"zzy-222@8g6-x3v-ks5\"]   \n",
       "2777      [\"224-222@8g6-x4t-gc5\",\"22b-222@8g6-x4t-gc5\"]   \n",
       "2780  [\"222-222@8g6-yn3-k9f\",\"zzw-222@8g6-x75-pjv\",\"...   \n",
       "\n",
       "                                               geometry  \n",
       "2776  POLYGON ((-84.10690 33.72652, -84.10689 33.726...  \n",
       "2777  POLYGON ((-84.07576 33.69416, -84.07575 33.694...  \n",
       "2780  POLYGON ((-84.25758 33.84631, -84.25758 33.846...  "
      ]
     },
     "execution_count": 53,
     "metadata": {},
     "output_type": "execute_result"
    }
   ],
   "source": [
    "gdf_sg_filtered.head(3)"
   ]
  },
  {
   "cell_type": "code",
   "execution_count": 54,
   "id": "51bcb3b3-c894-4748-b1cd-d516664fb0e2",
   "metadata": {},
   "outputs": [],
   "source": [
    "gdf_sg_filtered[[\"PLACEKEY\", \"LATITUDE\", \"LONGITUDE\", \"WKT_AREA_SQ_METERS\", \"geometry\"]]\\\n",
    ".to_file(\"safegraph_parking.geojson\", driver=\"GeoJSON\")"
   ]
  },
  {
   "cell_type": "markdown",
   "id": "dca38ca5-2eeb-4c89-8302-1600cc761853",
   "metadata": {},
   "source": [
    "# Load SafeGraph Parking"
   ]
  },
  {
   "cell_type": "code",
   "execution_count": 60,
   "id": "b4670046-c5d9-4a7e-96bd-3b6a45bd229b",
   "metadata": {},
   "outputs": [
    {
     "data": {
      "text/html": [
       "<div>\n",
       "<style scoped>\n",
       "    .dataframe tbody tr th:only-of-type {\n",
       "        vertical-align: middle;\n",
       "    }\n",
       "\n",
       "    .dataframe tbody tr th {\n",
       "        vertical-align: top;\n",
       "    }\n",
       "\n",
       "    .dataframe thead th {\n",
       "        text-align: right;\n",
       "    }\n",
       "</style>\n",
       "<table border=\"1\" class=\"dataframe\">\n",
       "  <thead>\n",
       "    <tr style=\"text-align: right;\">\n",
       "      <th></th>\n",
       "      <th>PLACEKEY</th>\n",
       "      <th>LATITUDE</th>\n",
       "      <th>LONGITUDE</th>\n",
       "      <th>WKT_AREA_SQ_METERS</th>\n",
       "      <th>geometry</th>\n",
       "    </tr>\n",
       "  </thead>\n",
       "  <tbody>\n",
       "    <tr>\n",
       "      <th>0</th>\n",
       "      <td>zzz-222@8g6-x3v-ks5</td>\n",
       "      <td>33.724823</td>\n",
       "      <td>-84.107706</td>\n",
       "      <td>28687</td>\n",
       "      <td>POLYGON ((-84.1069 33.72652, -84.10689 33.7264...</td>\n",
       "    </tr>\n",
       "    <tr>\n",
       "      <th>1</th>\n",
       "      <td>zzz-222@8g6-x3z-qs5</td>\n",
       "      <td>33.693855</td>\n",
       "      <td>-84.075111</td>\n",
       "      <td>4352</td>\n",
       "      <td>POLYGON ((-84.07576 33.69416, -84.07575 33.694...</td>\n",
       "    </tr>\n",
       "    <tr>\n",
       "      <th>2</th>\n",
       "      <td>zzz-222@8g6-x75-pjv</td>\n",
       "      <td>33.846035</td>\n",
       "      <td>-84.257664</td>\n",
       "      <td>1236</td>\n",
       "      <td>POLYGON ((-84.25758 33.84631, -84.25758 33.846...</td>\n",
       "    </tr>\n",
       "    <tr>\n",
       "      <th>3</th>\n",
       "      <td>zzz-222@8g6-x7c-j7q</td>\n",
       "      <td>33.824909</td>\n",
       "      <td>-84.261364</td>\n",
       "      <td>3466</td>\n",
       "      <td>POLYGON ((-84.26095 33.82522, -84.26093 33.825...</td>\n",
       "    </tr>\n",
       "    <tr>\n",
       "      <th>4</th>\n",
       "      <td>zzz-222@8g6-x8m-pd9</td>\n",
       "      <td>33.704086</td>\n",
       "      <td>-84.253256</td>\n",
       "      <td>549</td>\n",
       "      <td>POLYGON ((-84.25314 33.70421, -84.25306 33.704...</td>\n",
       "    </tr>\n",
       "  </tbody>\n",
       "</table>\n",
       "</div>"
      ],
      "text/plain": [
       "              PLACEKEY   LATITUDE  LONGITUDE  WKT_AREA_SQ_METERS  \\\n",
       "0  zzz-222@8g6-x3v-ks5  33.724823 -84.107706               28687   \n",
       "1  zzz-222@8g6-x3z-qs5  33.693855 -84.075111                4352   \n",
       "2  zzz-222@8g6-x75-pjv  33.846035 -84.257664                1236   \n",
       "3  zzz-222@8g6-x7c-j7q  33.824909 -84.261364                3466   \n",
       "4  zzz-222@8g6-x8m-pd9  33.704086 -84.253256                 549   \n",
       "\n",
       "                                            geometry  \n",
       "0  POLYGON ((-84.1069 33.72652, -84.10689 33.7264...  \n",
       "1  POLYGON ((-84.07576 33.69416, -84.07575 33.694...  \n",
       "2  POLYGON ((-84.25758 33.84631, -84.25758 33.846...  \n",
       "3  POLYGON ((-84.26095 33.82522, -84.26093 33.825...  \n",
       "4  POLYGON ((-84.25314 33.70421, -84.25306 33.704...  "
      ]
     },
     "execution_count": 60,
     "metadata": {},
     "output_type": "execute_result"
    }
   ],
   "source": [
    "gdf_safe_graph = gpd.read_file(\"safegraph_parking.geojson\")\n",
    "\n",
    "gdf_safe_graph.head()"
   ]
  },
  {
   "cell_type": "code",
   "execution_count": null,
   "id": "c53458c3-8325-45d9-9a41-c656b2d56bad",
   "metadata": {},
   "outputs": [],
   "source": [
    "# Safe Graph intersected with OSM\n",
    "\n",
    "gdf_int = gdf_safe_graph"
   ]
  }
 ],
 "metadata": {
  "kernelspec": {
   "display_name": "Python 3 (ipykernel)",
   "language": "python",
   "name": "python3"
  },
  "language_info": {
   "codemirror_mode": {
    "name": "ipython",
    "version": 3
   },
   "file_extension": ".py",
   "mimetype": "text/x-python",
   "name": "python",
   "nbconvert_exporter": "python",
   "pygments_lexer": "ipython3",
   "version": "3.11.10"
  }
 },
 "nbformat": 4,
 "nbformat_minor": 5
}
